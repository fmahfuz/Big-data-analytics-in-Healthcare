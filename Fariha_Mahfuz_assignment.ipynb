{
 "cells": [
  {
   "cell_type": "code",
   "execution_count": 1,
   "id": "76555d61",
   "metadata": {},
   "outputs": [],
   "source": [
    "#Importing necessary modules \n",
    "import pandas as pd\n",
    "import numpy as np\n",
    "import matplotlib.pyplot as plt\n",
    "import seaborn as sns\n"
   ]
  },
  {
   "cell_type": "code",
   "execution_count": 2,
   "id": "b4a109e4",
   "metadata": {},
   "outputs": [],
   "source": [
    "#Loading dataset from csv file\n",
    "df=pd.read_csv('Heart.csv')"
   ]
  },
  {
   "cell_type": "markdown",
   "id": "a9bb5d0e",
   "metadata": {},
   "source": [
    "## 1.Structure of the data set, including length, data type, names, and the components of the data set.\n",
    "\n"
   ]
  },
  {
   "cell_type": "code",
   "execution_count": 3,
   "id": "68a26efb",
   "metadata": {},
   "outputs": [
    {
     "ename": "NameError",
     "evalue": "name 'shape' is not defined",
     "output_type": "error",
     "traceback": [
      "\u001b[0;31m---------------------------------------------------------------------------\u001b[0m",
      "\u001b[0;31mNameError\u001b[0m                                 Traceback (most recent call last)",
      "\u001b[0;32m<ipython-input-3-07caf75f3703>\u001b[0m in \u001b[0;36m<module>\u001b[0;34m\u001b[0m\n\u001b[1;32m      1\u001b[0m \u001b[0;31m#displaying the shape=df.shape\u001b[0m\u001b[0;34m\u001b[0m\u001b[0;34m\u001b[0m\u001b[0;34m\u001b[0m\u001b[0m\n\u001b[0;32m----> 2\u001b[0;31m \u001b[0mprint\u001b[0m\u001b[0;34m(\u001b[0m\u001b[0;34mf'Number of rows {shape[0]}'\u001b[0m\u001b[0;34m)\u001b[0m\u001b[0;34m\u001b[0m\u001b[0;34m\u001b[0m\u001b[0m\n\u001b[0m\u001b[1;32m      3\u001b[0m \u001b[0mprint\u001b[0m\u001b[0;34m(\u001b[0m\u001b[0;34mf'Number of columns {shape[1]}'\u001b[0m\u001b[0;34m)\u001b[0m\u001b[0;34m\u001b[0m\u001b[0;34m\u001b[0m\u001b[0m\n\u001b[1;32m      4\u001b[0m \u001b[0mprint\u001b[0m\u001b[0;34m(\u001b[0m\u001b[0;34m'\\nDatatypes of columns:\\n'\u001b[0m\u001b[0;34m)\u001b[0m\u001b[0;34m\u001b[0m\u001b[0;34m\u001b[0m\u001b[0m\n\u001b[1;32m      5\u001b[0m \u001b[0mprint\u001b[0m\u001b[0;34m(\u001b[0m\u001b[0mdf\u001b[0m\u001b[0;34m.\u001b[0m\u001b[0mdtypes\u001b[0m\u001b[0;34m)\u001b[0m\u001b[0;34m\u001b[0m\u001b[0;34m\u001b[0m\u001b[0m\n",
      "\u001b[0;31mNameError\u001b[0m: name 'shape' is not defined"
     ]
    }
   ],
   "source": [
    "#displaying the shape=df.shape\n",
    "print(f'Number of rows {shape[0]}')\n",
    "print(f'Number of columns {shape[1]}')\n",
    "print('\\nDatatypes of columns:\\n')\n",
    "print(df.dtypes)\n",
    "print('\\n Column names:\\n')\n",
    "print(df.columns)\n",
    "print('\\n First five rows of the dataset: \\n')\n",
    "print(df.head(5))"
   ]
  },
  {
   "cell_type": "code",
   "execution_count": null,
   "id": "a4941938",
   "metadata": {},
   "outputs": [],
   "source": [
    "print(df.describe)"
   ]
  },
  {
   "cell_type": "code",
   "execution_count": null,
   "id": "713f7211",
   "metadata": {},
   "outputs": [],
   "source": [
    "## 2. Average Measures for continuous variables, including Mean, Median, Standard deviation, Variance, Median Absolute Variance (deviation), maximum, Minimum, and Sum."
   ]
  },
  {
   "cell_type": "code",
   "execution_count": null,
   "id": "5f3b2060",
   "metadata": {},
   "outputs": [],
   "source": [
    "#Assigning continuous variables as cont\n",
    "cont = df.select_dtypes(include=[np.number])\n"
   ]
  },
  {
   "cell_type": "code",
   "execution_count": null,
   "id": "5d23688d",
   "metadata": {},
   "outputs": [],
   "source": [
    "cont"
   ]
  },
  {
   "cell_type": "code",
   "execution_count": null,
   "id": "21c8b685",
   "metadata": {},
   "outputs": [],
   "source": [
    "#Average Measures for continuous variables, including Mean, Median, Standard deviation, Variance, Median Absolute Variance (deviation), maximum, Minimum, and Sum\n",
    "cont.describe()"
   ]
  },
  {
   "cell_type": "markdown",
   "id": "5dcee177",
   "metadata": {},
   "source": [
    "## 3. Frequency for categorical variables."
   ]
  },
  {
   "cell_type": "code",
   "execution_count": null,
   "id": "9803b7fb",
   "metadata": {},
   "outputs": [],
   "source": [
    "#Selecting columns with categorical value\n",
    "cat = df.select_dtypes(include=['object'])\n"
   ]
  },
  {
   "cell_type": "code",
   "execution_count": null,
   "id": "00b6d488",
   "metadata": {},
   "outputs": [],
   "source": [
    "#Iterating through the columns in categorical columns\n",
    "for col in cat.columns:\n",
    "    print(f\"\\nColumn: {col}\")\n",
    "    print(cat[col].value_counts())"
   ]
  },
  {
   "cell_type": "markdown",
   "id": "c7123488",
   "metadata": {},
   "source": [
    "## 4) Plots of summary statistics (such as histograms or bar-plot) for one continuous variable and categorical variable respectively."
   ]
  },
  {
   "cell_type": "code",
   "execution_count": null,
   "id": "9c5457a0",
   "metadata": {},
   "outputs": [],
   "source": [
    "#Plotting basic histogram for the Chestpain columns\n",
    "f=sns.countplot(x='ChestPain',hue='Sex',data=df,edgecolor='black',palette=sns.color_palette('icefire'))\n",
    "\n",
    "# Adding labels and title\n",
    "plt.xlabel('ChestPain')\n",
    "plt.ylabel('Frequency')\n",
    "plt.title('Frequency of Chestpain Type by Gender')\n",
    " \n",
    "plt.show()"
   ]
  },
  {
   "cell_type": "code",
   "execution_count": null,
   "id": "d3d1e3c4",
   "metadata": {},
   "outputs": [],
   "source": [
    "#Plotting basic histogram for the Chestpain columns\n",
    "plt.hist(df['Age'],bins=20,color='indianred',edgecolor='black')\n",
    "\n",
    "# Adding labels and title\n",
    "plt.xlabel('Age')\n",
    "plt.ylabel('Frequency')\n",
    "plt.title('Age distribustion')\n",
    " \n",
    "plt.show()"
   ]
  },
  {
   "cell_type": "code",
   "execution_count": null,
   "id": "52cf147c",
   "metadata": {},
   "outputs": [],
   "source": []
  },
  {
   "cell_type": "code",
   "execution_count": null,
   "id": "833a3200",
   "metadata": {},
   "outputs": [],
   "source": []
  }
 ],
 "metadata": {
  "kernelspec": {
   "display_name": "Python 3",
   "language": "python",
   "name": "python3"
  },
  "language_info": {
   "codemirror_mode": {
    "name": "ipython",
    "version": 3
   },
   "file_extension": ".py",
   "mimetype": "text/x-python",
   "name": "python",
   "nbconvert_exporter": "python",
   "pygments_lexer": "ipython3",
   "version": "3.8.8"
  }
 },
 "nbformat": 4,
 "nbformat_minor": 5
}
